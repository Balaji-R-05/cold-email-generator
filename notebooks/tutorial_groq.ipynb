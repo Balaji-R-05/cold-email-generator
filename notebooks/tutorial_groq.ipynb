{
 "cells": [
  {
   "cell_type": "markdown",
   "id": "af60d2ea",
   "metadata": {},
   "source": [
    "# Groq Tutorial"
   ]
  },
  {
   "cell_type": "code",
   "execution_count": null,
   "id": "bfcba620",
   "metadata": {},
   "outputs": [],
   "source": [
    "from langchain_groq import ChatGroq\n",
    "from dotenv import load_dotenv\n",
    "\n",
    "llm = ChatGroq(\n",
    "    model=\"llama-3.3-70b-versatile\",\n",
    "    temperature=0,\n",
    ")"
   ]
  },
  {
   "cell_type": "code",
   "execution_count": 2,
   "id": "ff56043a",
   "metadata": {},
   "outputs": [
    {
     "name": "stdout",
     "output_type": "stream",
     "text": [
      "The first person to step on the Moon was Neil Armstrong. He stepped out of the lunar module Eagle and onto the Moon's surface on July 20, 1969, during the Apollo 11 mission. Armstrong famously declared, \"That's one small step for man, one giant leap for mankind,\" as he became the first human to set foot on the Moon.\n"
     ]
    }
   ],
   "source": [
    "response = llm.invoke(\"the first person to step in moon was ...\")\n",
    "print(response.content)"
   ]
  },
  {
   "cell_type": "code",
   "execution_count": null,
   "id": "1a890487",
   "metadata": {},
   "outputs": [],
   "source": []
  },
  {
   "cell_type": "code",
   "execution_count": 3,
   "id": "1d13269d",
   "metadata": {},
   "outputs": [
    {
     "name": "stderr",
     "output_type": "stream",
     "text": [
      "USER_AGENT environment variable not set, consider setting it to identify your requests.\n"
     ]
    },
    {
     "data": {
      "text/plain": [
       "'\\n\\n\\n\\n\\n\\n\\n\\n\\n\\n\\n\\n\\n\\n\\n\\n\\n\\n\\n\\n\\nLead Software Engineer, ITC\\n\\n\\n\\n\\n\\n\\n\\n\\n\\n\\n\\n\\n\\n\\n\\n\\n\\n\\n\\n\\n\\n\\n\\n\\n\\n\\n\\n\\n\\n\\n\\n\\n\\n\\n\\n\\n\\n\\n\\n\\n\\n\\nSkip to main content\\nOpen Virtual Assistant\\n\\n\\n\\n\\n\\n\\n\\n\\n\\n\\nHome\\n\\n\\nCareer Areas\\n\\n\\nTotal Rewards\\n\\n\\nLife@Nike\\n\\n\\nPurpose\\n\\n\\n\\n\\n\\n\\n\\n\\n\\n\\nLanguage\\n\\n\\n\\n\\n\\nSelect a Language\\n\\n  Deutsch  \\n  English  \\n  Español (España)  \\n  Español (América Latina)  \\n  Français  \\n  Italiano  \\n  Nederlands  \\n  Polski  \\n  Tiếng Việt  \\n  Türkçe  \\n  简体中文  \\n  繁體中文  \\n  עִברִית  \\n  한국어  \\n  日本語  \\n\\n\\n\\n\\n\\n\\n\\n\\nCareers\\n\\n\\n\\n\\n\\n\\n\\n\\n\\n\\n\\n\\n\\n\\n\\n\\n\\n\\nClose Menu\\n\\n\\n\\n\\n\\n\\n\\nCareers\\n\\n\\n\\n\\n\\n\\nChat\\n\\n\\n\\n\\n\\n\\n                                Home\\n                            \\n\\n\\n\\n                                Career Areas\\n                            \\n\\n\\n\\n                                Total Rewards\\n                            \\n\\n\\n\\n                                Life@Nike\\n                            \\n\\n\\n\\n                                Purpose\\n                            \\n\\n\\n\\n\\n\\n\\n\\n\\n\\n\\nJordan Careers\\n\\n\\n\\n\\n\\n\\n\\nConverse Careers\\n\\n\\n\\n\\n\\n\\n\\n\\n\\n\\nLanguage\\n\\n\\n\\n\\n\\n\\n\\n\\n\\n\\n\\nMenu\\n\\n\\n\\nReturn to Previous Menu\\n\\n\\n\\nSelect a Language\\n\\n  Deutsch  \\n  English  \\n  Español (España)  \\n  Español (América Latina)  \\n  Français  \\n  Italiano  \\n  Nederlands  \\n  Polski  \\n  Tiếng Việt  \\n  Türkçe  \\n  简体中文  \\n  繁體中文  \\n  עִברִית  \\n  한국어  \\n  日本語  \\n\\n\\n\\n\\n\\n\\n\\n\\n\\n\\n\\n\\n\\n\\n\\n                        Back to Search\\n\\n                    \\n\\nLead Software Engineer, ITC\\n\\n\\nCategories ID\\n\\n\\n\\nCategories URL\\n\\n\\n\\nPosition Type\\n\\n\\n\\nDate Posted\\n\\n\\n\\nPrimary Quest ID\\n\\n\\n\\nSecond Quest ID\\n\\n\\n\\nJob Classification\\n\\n\\n\\n\\nCareer area\\nTechnology\\n\\n\\nLocation\\n4/F, WeWork, Embassy GolfLinks, Karnataka, Karnataka 560093, India\\n\\n\\n\\nJob ID\\nR-51405\\n\\n\\n\\n\\n\\n                            Apply Now\\n                        \\n\\n\\n\\n\\n\\n\\nShare Job\\n\\n\\n\\n\\nShare Job Posting\\n\\n\\n\\n\\n\\n\\nFacebook\\nOpens In A New Tab\\n\\n\\n\\n\\n\\n\\n\\nLinkedIn\\nLink Opens In New Window\\n\\n\\n\\n\\n\\n\\n\\n\\nEmail\\n\\n\\n\\n\\n\\n\\nClose-Medium (Default Size)-icon\\n\\nClose Menu\\n\\n\\n\\n\\n\\n\\n\\n\\n\\n\\n\\n\\n\\nBecome a Part of the NIKE, Inc. Team\\nNIKE, Inc. does more than outfit the world’s best athletes. It is a place to explore\\n                            potential, obliterate boundaries\\n                            and push out the edges of what can be. The company looks for people who can grow, think,\\n                            dream and create. Its\\n                            culture thrives by embracing diversity and rewarding imagination. The brand seeks achievers,\\n                            leaders and\\n                            visionaries. At NIKE, Inc. it’s about each person bringing skills and passion to a\\n                            challenging and constantly\\n                            evolving game.\\n\\nWHO YOU’LL WORK WITHYou will be part of the Global Technology organization and report to the Engineering Manager. On a daily basis, you will collaborate with peer software engineers, product managers, and architects on product teams to achieve business objectives. Additionally, you will engage with other Global Technology teams to align on both organizational and individual development goals.\\xa0WHO WE ARE LOOKING FORWe are seeking a ambitious Lead Full Stack Software Engineer to join our dynamic team. You’ll be responsible for developing and maintaining both front-end and back-end applications, ensuring seamless and scalable experiences for users. You will play a critical role in building robust features, maintaining system performance, and collaborating across teams to deliver high-quality cloud native software solutions. If you thrive in a collaborative environment, are energized by innovative technology, and excel at problem-solving, this role may be a great fit for you.Key Qualifications:Bachelor’s Degree in Computer Science, Engineering, or a related field (or equivalent experience).7-10yrs years of professional experience as a Full Stack Software Engineer or in a similar role with expertise in both front-end and back-end technologies.Proficient in UI Programming languages like React or Vue Js or similar frameworks.Proficient in server-side programming languages such as Node.js, Python or similar.Strong Experience in designing and building serverless architectures.Experience Building end to end CI/CD pipeline to build, test and deploy to different AWS environments such as lambda, EC2,ECS , EKS etcDatabase: Expertise in NoSQL databases like Dynamo DB.\\xa0\\xa0\\xa0API Development: Strong Experience in designing and developing RESTful APIs and web services.Cloud Technologies: Strong Experience in cloud platforms preferably AWS, including experience with serverless architectures and cloud-native development.Experience in application security concepts, including authentication, authorization, session management.Version Control: Strong Experience with Git, GitHub, or similar version control tools.Testing Frameworks: Strong Experience with unit testing, integration testing, and test-driven development (TDD).Problem-Solving: Strong debugging, troubleshooting, and performance optimization skills.Collaboration: Excellent communication and interpersonal skills, with the ability to work well in a team-oriented, fast-paced environment.\\xa0Bonus Skills:Strong Experience in setting up deployment pipelines with CI/CD tools (e.g., Jenkins, CircleCI, GitLab),Working experience on containerization technologies like DockerDeep knowledge with microservices architecture.Ability to thrive in a fast-paced, dynamic environment with ambiguity.Good Knowledge of computer science fundamentals.Keen to explore new technologies.\\xa0WHAT YOU’LL WORK ONAs a Lead Software Engineer,\\xa0 you will:Design & Develop: Build, test, and maintain web applications and services across the full stack, providing end-to-end functionality.Lead Technical Initiatives: Lead and contribute to architectural decisions, technical strategy, and feature planning.Collaborate: Work closely with product managers, designers, stakeholders and other engineers to define requirements, technical specifications, and deliver quality software.Explain designs and constraints to stakeholders and technical teams, gather alignment and buy-inEnsure solutions are designed and developed using a scalable, highly resilient cloud native architectureFront-End Development: Design, Implement dynamic, responsive, and user-friendly web interfaces using modern JavaScript frameworks ( React).Review:Lead design reviews with peers and stakeholders to decide amongst available technologiesReview code developed by other developers and provide feedback to ensure best practicesBack-End Development: Design and implement RESTful APIs, microservices, and backend services using technologies like Node.js, Python or similar.Database Management: Develop NoSQL databases, ensuring efficient data storage and retrieval.Testing & Quality Assurance: Write unit tests, integration tests, and maintain high code quality standards using tools such as Jest, Mocha, or similar.Performance Optimization: Identify and fix performance bottlenecks across the full stack, ensuring high availability and responsiveness.CI/CD Integration: Integrate with and maintain continuous integration/continuous deployment (CI/CD) pipelines for seamless software delivery.Agile Methodologies: Participate in Agile processes, including sprint planning, daily stand-ups, code reviews, and retrospectives.Provide technical leadership and mentorship to your teammates and develop a team environment that promotes collaboration and innovationContribute to existing documentation or educational content and adapt content based on product/program updates and user feedback. \\n\\nNIKE, Inc. is a growth company that looks for team members to grow with it. Nike offers a\\n                            generous total rewards\\n                            package, casual work environment, a diverse and inclusive culture, and an electric\\n                            atmosphere for professional\\n                            development. No matter the location, or the role, every Nike employee shares one galvanizing\\n                            mission: To bring\\n                            inspiration and innovation to every athlete* in the world.\\nNIKE, Inc. is an equal opportunity employer. Qualified applicants will receive\\n                            consideration without\\n                            regard to race, color, religion, sex, national origin, age, sexual orientation, gender\\n                            identity, gender expression,\\n                            veteran status, or disability.\\n\\n\\n\\n\\n                                Apply Now\\n                            \\n\\n\\n\\n\\n\\n\\nShare Job\\n\\n\\n\\n\\nShare Job Posting\\n\\n\\n\\n\\n\\n\\nFaceboox\\nOpens In A New Tab\\n\\n\\n\\n\\n\\n\\n\\nLinkedIn\\nLink Opens In New Window\\n\\n\\n\\n\\n\\n\\n\\n\\nEmail\\n\\n\\n\\n\\n\\n\\nClose-Medium (Default Size)-icon\\n\\nClose Menu\\n\\n\\n\\n\\n\\n\\n\\n\\n\\n\\n\\nWhat You Can Expect\\nOUR HIRING GAME PLAN\\n\\n\\n01 Apply\\nOur teams are made up of diverse skillsets, knowledge bases, inputs, ideas and backgrounds.\\n                            We want you to find your fit – review job descriptions, departments and teams to discover\\n                            the role for you.\\n\\n\\n02 Meet a Recruiter or Take an Assessment\\nIf selected for a corporate role, a recruiter will reach out to start your interview process\\n                            and be your main contact\\n                            throughout the process. For retail roles, you’ll complete an interactive assessment that\\n                            includes a chat and quizzes and\\n                            takes about 10-20 minutes to complete.\\xa0 No matter the role, we want to learn about you – the\\n                            whole you – so don’t shy\\n                            away from how you approach world-class service and what makes you unique.\\n\\n\\n03 Interview\\nGo into this stage confident by doing your research, understanding what we are looking for\\n                            and being prepared for\\n                            questions that are set up to learn more about you, and your background.\\n\\n\\n\\n\\n\\n\\n\\n\\n\\n\\n\\n\\n\\n\\n\\n\\n\\n\\n\\n\\n\\n\\n\\n\\nHome\\n\\n\\nAbout Us\\n\\n\\nContact\\n\\n\\nTalent Community\\n\\n\\nTerms\\n\\n\\n\\n\\n\\n\\n\\n\\n\\n\\n\\n\\n\\n\\n\\n\\n\\n\\n\\n\\n\\n\\n\\n\\n\\n\\n\\n\\n\\n\\n\\n\\n\\n\\n\\n\\n\\n\\n\\n\\n\\n\\n              \\n                   \\n                    Nike Applicant Privacy Policy\\n                    \\n\\n\\n\\n\\n\\nWe offer a number of accommodations to complete our interview process including screen readers, sign language interpreters,\\n                accessible and single location for in-person interviews, closed captioning, and other reasonable modifications as\\n                needed.\\n\\n\\nIf you discover, as you navigate our application process, that you need assistance or an accommodation due to a\\n                disability, please contact us at +1 503-671-4156 and include your full name, best way to reach you, and the\\n                accommodation you request to assist with the application process.\\nFor more information, please refer to Equal Employment\\n                        Opportunity is The Law.\\n\\n\\n\\n©  Nike, Inc. All Rights Reserved\\n\\n\\n\\n\\n\\n\\n\\n\\n\\n\\n\\n\\n\\nCareers\\n\\n\\n\\n\\n\\n\\n\\n\\nChat\\nChat with our AI Assistant\\n\\n\\n\\n\\n\\n\\n\\n\\n\\n\\n\\n\\n\\n\\n\\n'"
      ]
     },
     "execution_count": 3,
     "metadata": {},
     "output_type": "execute_result"
    }
   ],
   "source": [
    "from langchain_community.document_loaders import WebBaseLoader\n",
    "\n",
    "loader = WebBaseLoader(\"https://careers.nike.com/lead-software-engineer-itc/job/R-51405\")\n",
    "page_data = loader.load().pop().page_content\n",
    "page_data"
   ]
  },
  {
   "cell_type": "code",
   "execution_count": 4,
   "id": "464e79fa",
   "metadata": {},
   "outputs": [
    {
     "name": "stdout",
     "output_type": "stream",
     "text": [
      "```json\n",
      "{\n",
      "  \"role\": \"Lead Software Engineer, ITC\",\n",
      "  \"experience\": \"7-10 years\",\n",
      "  \"description\": \"We are seeking a ambitious Lead Full Stack Software Engineer to join our dynamic team. You’ll be responsible for developing and maintaining both front-end and back-end applications, ensuring seamless and scalable experiences for users.\",\n",
      "  \"skills\": [\n",
      "    \"UI Programming languages like React or Vue Js\",\n",
      "    \"Server-side programming languages such as Node.js, Python\",\n",
      "    \"Serverless architectures\",\n",
      "    \"CI/CD pipeline\",\n",
      "    \"AWS environments\",\n",
      "    \"NoSQL databases like Dynamo DB\",\n",
      "    \"RESTful APIs\",\n",
      "    \"Cloud Technologies\",\n",
      "    \"Application security concepts\",\n",
      "    \"Version Control with Git, GitHub\",\n",
      "    \"Testing Frameworks\",\n",
      "    \"Problem-Solving\",\n",
      "    \"Collaboration\"\n",
      "  ]\n",
      "}\n",
      "```\n",
      "<class 'str'>\n"
     ]
    }
   ],
   "source": [
    "from langchain_core.prompts import PromptTemplate\n",
    "\n",
    "prompt_extract = PromptTemplate.from_template(\n",
    "    \"\"\"\n",
    "    ### SCRAPED TEXT From website\n",
    "    {page_data}\n",
    "    ### INSTRUCTION:\n",
    "    Your scraped text is from career's page of a website.\n",
    "    Your job is to extract the job postings and return them in JSON format containing following keys:\n",
    "    'role', 'experience', 'description' and 'skills'.\n",
    "    Only return the valid JSON.\n",
    "    ### VALID JSON (NO PREAMBLE)\n",
    "    \"\"\"\n",
    ")\n",
    "chain_extract = prompt_extract | llm\n",
    "res = chain_extract.invoke(input={'page_data':page_data})\n",
    "print(res.content)\n",
    "print(type(res.content))\n"
   ]
  },
  {
   "cell_type": "code",
   "execution_count": 8,
   "id": "46209668",
   "metadata": {},
   "outputs": [
    {
     "data": {
      "text/plain": [
       "{'role': 'Lead Software Engineer, ITC',\n",
       " 'experience': '7-10 years',\n",
       " 'description': 'We are seeking a ambitious Lead Full Stack Software Engineer to join our dynamic team. You’ll be responsible for developing and maintaining both front-end and back-end applications, ensuring seamless and scalable experiences for users.',\n",
       " 'skills': ['UI Programming languages like React or Vue Js',\n",
       "  'Server-side programming languages such as Node.js, Python',\n",
       "  'Designing and building serverless architectures',\n",
       "  'Building end to end CI/CD pipeline',\n",
       "  'NoSQL databases like Dynamo DB',\n",
       "  'RESTful APIs and web services',\n",
       "  'Cloud platforms preferably AWS',\n",
       "  'Git, GitHub, or similar version control tools',\n",
       "  'Unit testing, integration testing, and test-driven development (TDD)']}"
      ]
     },
     "execution_count": 8,
     "metadata": {},
     "output_type": "execute_result"
    }
   ],
   "source": [
    "from langchain_core.output_parsers import JsonOutputParser\n",
    "\n",
    "json_parser = JsonOutputParser()\n",
    "json_res = json_parser.parse(res.content)\n",
    "json_res"
   ]
  },
  {
   "cell_type": "code",
   "execution_count": 9,
   "id": "4518c7b3",
   "metadata": {},
   "outputs": [
    {
     "data": {
      "text/plain": [
       "dict"
      ]
     },
     "execution_count": 9,
     "metadata": {},
     "output_type": "execute_result"
    }
   ],
   "source": [
    "type(json_res)"
   ]
  },
  {
   "cell_type": "code",
   "execution_count": 10,
   "id": "7cdcd01c",
   "metadata": {},
   "outputs": [
    {
     "data": {
      "text/html": [
       "<div>\n",
       "<style scoped>\n",
       "    .dataframe tbody tr th:only-of-type {\n",
       "        vertical-align: middle;\n",
       "    }\n",
       "\n",
       "    .dataframe tbody tr th {\n",
       "        vertical-align: top;\n",
       "    }\n",
       "\n",
       "    .dataframe thead th {\n",
       "        text-align: right;\n",
       "    }\n",
       "</style>\n",
       "<table border=\"1\" class=\"dataframe\">\n",
       "  <thead>\n",
       "    <tr style=\"text-align: right;\">\n",
       "      <th></th>\n",
       "      <th>Techstack</th>\n",
       "      <th>Links</th>\n",
       "    </tr>\n",
       "  </thead>\n",
       "  <tbody>\n",
       "    <tr>\n",
       "      <th>0</th>\n",
       "      <td>React, Node.js, MongoDB</td>\n",
       "      <td>https://example.com/react-portfolio</td>\n",
       "    </tr>\n",
       "    <tr>\n",
       "      <th>1</th>\n",
       "      <td>Angular,.NET, SQL Server</td>\n",
       "      <td>https://example.com/angular-portfolio</td>\n",
       "    </tr>\n",
       "    <tr>\n",
       "      <th>2</th>\n",
       "      <td>Vue.js, Ruby on Rails, PostgreSQL</td>\n",
       "      <td>https://example.com/vue-portfolio</td>\n",
       "    </tr>\n",
       "    <tr>\n",
       "      <th>3</th>\n",
       "      <td>Python, Django, MySQL</td>\n",
       "      <td>https://example.com/python-portfolio</td>\n",
       "    </tr>\n",
       "    <tr>\n",
       "      <th>4</th>\n",
       "      <td>Java, Spring Boot, Oracle</td>\n",
       "      <td>https://example.com/java-portfolio</td>\n",
       "    </tr>\n",
       "    <tr>\n",
       "      <th>5</th>\n",
       "      <td>Flutter, Firebase, GraphQL</td>\n",
       "      <td>https://example.com/flutter-portfolio</td>\n",
       "    </tr>\n",
       "    <tr>\n",
       "      <th>6</th>\n",
       "      <td>WordPress, PHP, MySQL</td>\n",
       "      <td>https://example.com/wordpress-portfolio</td>\n",
       "    </tr>\n",
       "    <tr>\n",
       "      <th>7</th>\n",
       "      <td>Magento, PHP, MySQL</td>\n",
       "      <td>https://example.com/magento-portfolio</td>\n",
       "    </tr>\n",
       "    <tr>\n",
       "      <th>8</th>\n",
       "      <td>React Native, Node.js, MongoDB</td>\n",
       "      <td>https://example.com/react-native-portfolio</td>\n",
       "    </tr>\n",
       "    <tr>\n",
       "      <th>9</th>\n",
       "      <td>iOS, Swift, Core Data</td>\n",
       "      <td>https://example.com/ios-portfolio</td>\n",
       "    </tr>\n",
       "    <tr>\n",
       "      <th>10</th>\n",
       "      <td>Android, Java, Room Persistence</td>\n",
       "      <td>https://example.com/android-portfolio</td>\n",
       "    </tr>\n",
       "    <tr>\n",
       "      <th>11</th>\n",
       "      <td>Kotlin, Android, Firebase</td>\n",
       "      <td>https://example.com/kotlin-android-portfolio</td>\n",
       "    </tr>\n",
       "    <tr>\n",
       "      <th>12</th>\n",
       "      <td>Android TV, Kotlin, Android NDK</td>\n",
       "      <td>https://example.com/android-tv-portfolio</td>\n",
       "    </tr>\n",
       "    <tr>\n",
       "      <th>13</th>\n",
       "      <td>iOS, Swift, ARKit</td>\n",
       "      <td>https://example.com/ios-ar-portfolio</td>\n",
       "    </tr>\n",
       "    <tr>\n",
       "      <th>14</th>\n",
       "      <td>Cross-platform, Xamarin, Azure</td>\n",
       "      <td>https://example.com/xamarin-portfolio</td>\n",
       "    </tr>\n",
       "    <tr>\n",
       "      <th>15</th>\n",
       "      <td>Backend, Kotlin, Spring Boot</td>\n",
       "      <td>https://example.com/kotlin-backend-portfolio</td>\n",
       "    </tr>\n",
       "    <tr>\n",
       "      <th>16</th>\n",
       "      <td>Frontend, TypeScript, Angular</td>\n",
       "      <td>https://example.com/typescript-frontend-portfolio</td>\n",
       "    </tr>\n",
       "    <tr>\n",
       "      <th>17</th>\n",
       "      <td>Full-stack, JavaScript, Express.js</td>\n",
       "      <td>https://example.com/full-stack-js-portfolio</td>\n",
       "    </tr>\n",
       "    <tr>\n",
       "      <th>18</th>\n",
       "      <td>Machine Learning, Python, TensorFlow</td>\n",
       "      <td>https://example.com/ml-python-portfolio</td>\n",
       "    </tr>\n",
       "    <tr>\n",
       "      <th>19</th>\n",
       "      <td>DevOps, Jenkins, Docker</td>\n",
       "      <td>https://example.com/devops-portfolio</td>\n",
       "    </tr>\n",
       "  </tbody>\n",
       "</table>\n",
       "</div>"
      ],
      "text/plain": [
       "                               Techstack  \\\n",
       "0                React, Node.js, MongoDB   \n",
       "1               Angular,.NET, SQL Server   \n",
       "2      Vue.js, Ruby on Rails, PostgreSQL   \n",
       "3                  Python, Django, MySQL   \n",
       "4              Java, Spring Boot, Oracle   \n",
       "5             Flutter, Firebase, GraphQL   \n",
       "6                  WordPress, PHP, MySQL   \n",
       "7                    Magento, PHP, MySQL   \n",
       "8         React Native, Node.js, MongoDB   \n",
       "9                  iOS, Swift, Core Data   \n",
       "10       Android, Java, Room Persistence   \n",
       "11             Kotlin, Android, Firebase   \n",
       "12       Android TV, Kotlin, Android NDK   \n",
       "13                     iOS, Swift, ARKit   \n",
       "14        Cross-platform, Xamarin, Azure   \n",
       "15          Backend, Kotlin, Spring Boot   \n",
       "16         Frontend, TypeScript, Angular   \n",
       "17    Full-stack, JavaScript, Express.js   \n",
       "18  Machine Learning, Python, TensorFlow   \n",
       "19               DevOps, Jenkins, Docker   \n",
       "\n",
       "                                                Links  \n",
       "0                 https://example.com/react-portfolio  \n",
       "1               https://example.com/angular-portfolio  \n",
       "2                   https://example.com/vue-portfolio  \n",
       "3                https://example.com/python-portfolio  \n",
       "4                  https://example.com/java-portfolio  \n",
       "5               https://example.com/flutter-portfolio  \n",
       "6             https://example.com/wordpress-portfolio  \n",
       "7               https://example.com/magento-portfolio  \n",
       "8          https://example.com/react-native-portfolio  \n",
       "9                   https://example.com/ios-portfolio  \n",
       "10              https://example.com/android-portfolio  \n",
       "11       https://example.com/kotlin-android-portfolio  \n",
       "12           https://example.com/android-tv-portfolio  \n",
       "13               https://example.com/ios-ar-portfolio  \n",
       "14              https://example.com/xamarin-portfolio  \n",
       "15       https://example.com/kotlin-backend-portfolio  \n",
       "16  https://example.com/typescript-frontend-portfolio  \n",
       "17        https://example.com/full-stack-js-portfolio  \n",
       "18            https://example.com/ml-python-portfolio  \n",
       "19               https://example.com/devops-portfolio  "
      ]
     },
     "execution_count": 10,
     "metadata": {},
     "output_type": "execute_result"
    }
   ],
   "source": [
    "import pandas as pd\n",
    "\n",
    "df = pd.read_csv(\"my_portfolio.csv\")\n",
    "df"
   ]
  },
  {
   "cell_type": "code",
   "execution_count": null,
   "id": "f296d3cf",
   "metadata": {},
   "outputs": [],
   "source": []
  },
  {
   "cell_type": "code",
   "execution_count": 11,
   "id": "349ab2bb",
   "metadata": {},
   "outputs": [],
   "source": [
    "import chromadb\n",
    "import uuid\n",
    "\n",
    "client = chromadb.PersistentClient('vectore_store')\n",
    "collection = client.get_or_create_collection(name=\"portfolios\")\n",
    "\n",
    "if not collection.count():\n",
    "    for _, row in df.iterrows():\n",
    "        collection.add(\n",
    "            documents=row[\"Techstack\"],\n",
    "            metadatas={\"links\": row[\"Links\"]},\n",
    "            ids=[str(uuid.uuid4())]\n",
    "        )"
   ]
  },
  {
   "cell_type": "code",
   "execution_count": 12,
   "id": "ee579725",
   "metadata": {},
   "outputs": [
    {
     "data": {
      "text/plain": [
       "[[{'links': 'https://example.com/ml-python-portfolio'},\n",
       "  {'links': 'https://example.com/python-portfolio'}],\n",
       " [{'links': 'https://example.com/react-portfolio'},\n",
       "  {'links': 'https://example.com/react-native-portfolio'}]]"
      ]
     },
     "execution_count": 12,
     "metadata": {},
     "output_type": "execute_result"
    }
   ],
   "source": [
    "links = collection.query(query_texts=[\"Experience in Python\", \"Experience in React\"], n_results=2).get(\"metadatas\")\n",
    "links"
   ]
  },
  {
   "cell_type": "code",
   "execution_count": 13,
   "id": "ddab21a4",
   "metadata": {},
   "outputs": [
    {
     "data": {
      "text/plain": [
       "['UI Programming languages like React or Vue Js',\n",
       " 'Server-side programming languages such as Node.js, Python',\n",
       " 'Designing and building serverless architectures',\n",
       " 'Building end to end CI/CD pipeline',\n",
       " 'NoSQL databases like Dynamo DB',\n",
       " 'RESTful APIs and web services',\n",
       " 'Cloud platforms preferably AWS',\n",
       " 'Git, GitHub, or similar version control tools',\n",
       " 'Unit testing, integration testing, and test-driven development (TDD)']"
      ]
     },
     "execution_count": 13,
     "metadata": {},
     "output_type": "execute_result"
    }
   ],
   "source": [
    "jobs = json_res\n",
    "jobs[\"skills\"]"
   ]
  },
  {
   "cell_type": "code",
   "execution_count": 20,
   "id": "3f540051",
   "metadata": {},
   "outputs": [],
   "source": [
    "prompt_email = PromptTemplate.from_template(\n",
    "        \"\"\"\n",
    "    ### JOB DESCRIPTION:\n",
    "    {job_description}\n",
    "\n",
    "    ### INSTRUCTION:\n",
    "    You are **Ravi Sharma**, a Business Consultant at **Techspire Solutions** — a forward-thinking tech consulting firm focused on helping companies build smarter, faster, and more scalable digital systems.\n",
    "    Techspire specializes in delivering tailored AI and software solutions that simplify operations, accelerate product development, and cut costs — whether it's through automation, platform engineering, or custom development.\n",
    "    Your task is to write a **cold email** to a potential client about the role described above. The email should:\n",
    "\n",
    "    - Start with a **subject line** that clearly states the offer or value\n",
    "    - Open with a friendly paragraph relating to their hiring or project needs\n",
    "    - Casually explain how Techspire has solved similar challenges\n",
    "    - Add the most relevant ones from the following links to show our portfolio {link_list}\n",
    "    - Highlight 2–3 relevant past projects or portfolios using bullet points\n",
    "    - Be persuasive without being salesy — think: “we get your world, and we can help”\n",
    "    - End with a soft CTA like suggesting a quick call or sending case studies\n",
    "    - Keep the tone friendly, confident, and focused on the client’s benefit\n",
    "    - Format the mail in a **business-casual style**, using bullet points and short paragraphs\n",
    "\n",
    "    You're not writing to “sell” — you're starting a conversation and showing how Techspire can add real value.\n",
    "    You are **Ravi Sharma**, Business Consultant at **Techspire Solutions**.\n",
    "\n",
    "    ### EMAIL (NO PREAMBLE):\n",
    "    \"\"\"\n",
    ")\n"
   ]
  },
  {
   "cell_type": "code",
   "execution_count": 21,
   "id": "26100423",
   "metadata": {},
   "outputs": [
    {
     "data": {
      "text/plain": [
       "str"
      ]
     },
     "execution_count": 21,
     "metadata": {},
     "output_type": "execute_result"
    }
   ],
   "source": [
    "type(str(jobs))"
   ]
  },
  {
   "cell_type": "code",
   "execution_count": 22,
   "id": "53cacd3a",
   "metadata": {},
   "outputs": [
    {
     "name": "stdout",
     "output_type": "stream",
     "text": [
      "Subject: Expert Software Engineering Solutions for Your Business\n",
      "\n",
      "Hi there,\n",
      "\n",
      "I hope this email finds you well. As a hiring manager or project lead, you're likely no stranger to the challenges of finding the right talent to drive your digital initiatives forward. With the demand for skilled software engineers on the rise, it can be tough to find the perfect fit for your team. That's where Techspire Solutions comes in – we specialize in delivering tailored software solutions that simplify operations, accelerate product development, and cut costs.\n",
      "\n",
      "We've helped numerous clients overcome similar challenges by providing them with top-notch software engineering expertise. Our team has a proven track record of developing and maintaining scalable, efficient, and user-friendly applications. You can check out some of our relevant work here: \n",
      "https://example.com/react-portfolio, \n",
      "https://example.com/python-portfolio. \n",
      "\n",
      "Some of our notable projects include:\n",
      "* Building a serverless architecture for a leading e-commerce platform, resulting in a 30% reduction in costs and a 25% increase in scalability\n",
      "* Developing a custom CI/CD pipeline for a fintech company, which improved their deployment frequency by 50% and reduced errors by 20%\n",
      "* Designing and implementing a NoSQL database solution for a real-time analytics platform, which enhanced data processing speed by 40% and improved data accuracy by 15%\n",
      "\n",
      "We understand the importance of finding the right talent to drive your business forward. Our team of expert software engineers can help you develop and maintain both front-end and back-end applications, ensuring seamless and scalable experiences for your users. If you're interested in learning more about how we can help, I'd love to schedule a quick call to discuss your project needs and explore how Techspire can add value to your business. Alternatively, I can send over some case studies that demonstrate our expertise in software engineering. Just let me know what works best for you.\n",
      "\n",
      "Best regards,\n",
      "Ravi Sharma\n",
      "Business Consultant, Techspire Solutions\n"
     ]
    }
   ],
   "source": [
    "chain_email = prompt_email | llm\n",
    "res = chain_email.invoke(\n",
    "    {\"job_description\": str(jobs), \"link_list\": links}\n",
    ")\n",
    "print(res.content)"
   ]
  }
 ],
 "metadata": {
  "kernelspec": {
   "display_name": "3.11.7",
   "language": "python",
   "name": "python3"
  },
  "language_info": {
   "codemirror_mode": {
    "name": "ipython",
    "version": 3
   },
   "file_extension": ".py",
   "mimetype": "text/x-python",
   "name": "python",
   "nbconvert_exporter": "python",
   "pygments_lexer": "ipython3",
   "version": "3.11.7"
  }
 },
 "nbformat": 4,
 "nbformat_minor": 5
}
